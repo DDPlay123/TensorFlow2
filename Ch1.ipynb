{
 "cells": [
  {
   "cell_type": "code",
   "execution_count": 1,
   "id": "71578b18",
   "metadata": {},
   "outputs": [
    {
     "data": {
      "text/plain": [
       "'2.3.0'"
      ]
     },
     "execution_count": 1,
     "metadata": {},
     "output_type": "execute_result"
    }
   ],
   "source": [
    "import tensorflow as tf\n",
    "tf.__version__"
   ]
  },
  {
   "cell_type": "code",
   "execution_count": 2,
   "id": "8d998f52",
   "metadata": {},
   "outputs": [
    {
     "name": "stdout",
     "output_type": "stream",
     "text": [
      "tf.Tensor(1, shape=(), dtype=int32)\n",
      "<tf.Variable 'Variable:0' shape=() dtype=int32, numpy=1>\n"
     ]
    }
   ],
   "source": [
    "c = tf.constant(1) # 常數Tensor\n",
    "v = tf.Variable(1) # 變數Tensor\n",
    "print(c)\n",
    "print(v)"
   ]
  },
  {
   "cell_type": "code",
   "execution_count": 3,
   "id": "9d5701cc",
   "metadata": {},
   "outputs": [
    {
     "name": "stdout",
     "output_type": "stream",
     "text": [
      "tf.Tensor(4, shape=(), dtype=int32)\n",
      "0維Tensor，0維又稱標量\n",
      "tf.Tensor([1 2 3], shape=(3,), dtype=int32)\n",
      "1維Tensor\n",
      "tf.Tensor(\n",
      "[[1 2 3]\n",
      " [4 5 6]], shape=(2, 3), dtype=int32)\n",
      "2維Tensor\n"
     ]
    }
   ],
   "source": [
    "x = tf.constant(4)\n",
    "print(x)\n",
    "print(\"{}維Tensor，0維又稱標量\".format(x.ndim))\n",
    "y = tf.constant([1, 2, 3])\n",
    "print(y)\n",
    "print(\"{}維Tensor\".format(y.ndim))\n",
    "z = tf.constant([[1, 2, 3], [4, 5, 6]])\n",
    "print(z)\n",
    "print(\"{}維Tensor\".format(z.ndim))"
   ]
  },
  {
   "cell_type": "markdown",
   "id": "0f9b509b",
   "metadata": {},
   "source": [
    "# Eager Execution 動態模式"
   ]
  },
  {
   "cell_type": "code",
   "execution_count": 4,
   "id": "1b235a6b",
   "metadata": {},
   "outputs": [
    {
     "name": "stdout",
     "output_type": "stream",
     "text": [
      "tf.Tensor(4, shape=(), dtype=int32)\n"
     ]
    }
   ],
   "source": [
    "a = tf.constant(4)\n",
    "print(a)"
   ]
  },
  {
   "cell_type": "markdown",
   "id": "c4a206a6",
   "metadata": {},
   "source": [
    "# Tensorflow 基本運算"
   ]
  },
  {
   "cell_type": "code",
   "execution_count": 5,
   "id": "4bd4ce85",
   "metadata": {},
   "outputs": [
    {
     "name": "stdout",
     "output_type": "stream",
     "text": [
      "Eager Execution 是否啟動：True\n"
     ]
    }
   ],
   "source": [
    "import numpy as np\n",
    "print(\"Eager Execution 是否啟動：{}\".format(tf.executing_eagerly()))"
   ]
  },
  {
   "cell_type": "code",
   "execution_count": 6,
   "id": "bef3a800",
   "metadata": {},
   "outputs": [
    {
     "name": "stdout",
     "output_type": "stream",
     "text": [
      "a = 3\n",
      "b = 4\n"
     ]
    }
   ],
   "source": [
    "a = tf.constant(3)\n",
    "b = tf.constant(4)\n",
    "print(\"a = {}\".format(a))\n",
    "print(\"b = {}\".format(b))"
   ]
  },
  {
   "cell_type": "code",
   "execution_count": 7,
   "id": "09e7b5bf",
   "metadata": {},
   "outputs": [
    {
     "name": "stdout",
     "output_type": "stream",
     "text": [
      "tf.Tensor(3, shape=(), dtype=int32)\n",
      "tf.Tensor(4, shape=(), dtype=int32)\n"
     ]
    }
   ],
   "source": [
    "print(a)\n",
    "print(b)"
   ]
  },
  {
   "cell_type": "code",
   "execution_count": 8,
   "id": "0768f323",
   "metadata": {},
   "outputs": [
    {
     "name": "stdout",
     "output_type": "stream",
     "text": [
      "a + b = 7\n",
      "a * b = 12\n"
     ]
    }
   ],
   "source": [
    "c = a + b\n",
    "print(\"a + b = {}\".format(c))\n",
    "d = a * b\n",
    "print(\"a * b = {}\".format(d))"
   ]
  },
  {
   "cell_type": "code",
   "execution_count": 9,
   "id": "9b8d2735",
   "metadata": {},
   "outputs": [
    {
     "name": "stdout",
     "output_type": "stream",
     "text": [
      "a constant：2D Tensor\n",
      "a + b = \n",
      "[[2. 4.]\n",
      " [6. 8.]]\n",
      "a * b = \n",
      "[[ 7. 10.]\n",
      " [15. 22.]]\n",
      "NumpyArray：\n",
      "[[2. 4.]\n",
      " [6. 8.]]\n"
     ]
    }
   ],
   "source": [
    "a = tf.constant([[1., 2.], [3., 4.]], dtype = tf.float32) # 2維Tensor\n",
    "b = np.array([[1., 2.], [3., 4.]], dtype = np.float32) # Numpy array的陣列\n",
    "print(\"a constant：{}D Tensor\".format(a.ndim))\n",
    "\n",
    "c = a + b\n",
    "print(\"a + b = \\n{}\".format(c))\n",
    "d = tf.matmul(a, b)\n",
    "print(\"a * b = \\n{}\".format(d))\n",
    "print(\"NumpyArray：\\n{}\".format(c))"
   ]
  },
  {
   "cell_type": "code",
   "execution_count": 32,
   "id": "b00040eb",
   "metadata": {},
   "outputs": [
    {
     "name": "stdout",
     "output_type": "stream",
     "text": [
      "<tf.Variable 'Variable:0' shape=(1, 1) dtype=float32, numpy=array([[3.]], dtype=float32)>\n",
      "tf.Tensor([[6.]], shape=(1, 1), dtype=float32)\n"
     ]
    }
   ],
   "source": [
    "# 計算loss在 w 為 3 時的導數\n",
    "w = tf.Variable([[3.0]])\n",
    "print(w)\n",
    "with tf.GradientTape() as tape:\n",
    "    loss = w * w\n",
    "grad = tape.gradient(loss, w)\n",
    "print(grad)"
   ]
  },
  {
   "cell_type": "markdown",
   "id": "24132e4c",
   "metadata": {},
   "source": [
    "# Sequential Model (序列模型)"
   ]
  },
  {
   "cell_type": "raw",
   "id": "5209300c",
   "metadata": {},
   "source": [
    "Dense: 全連接層\n",
    "Conv2d: 卷積層\n",
    "Flatten: 將輸入Reshape成一維Tensor，常應用在Conv和Dense間\n",
    "Add: 將兩層輸出加在一起\n",
    "Concatenate: 將兩層的輸出於指定的維度進行串聯(Concat)，相比於Add，能保留更多資訊量，但計算量較大"
   ]
  },
  {
   "cell_type": "code",
   "execution_count": 38,
   "id": "b3cce33d",
   "metadata": {},
   "outputs": [],
   "source": [
    "import tensorflow as tf\n",
    "from tensorflow import keras\n",
    "from tensorflow.keras import layers\n",
    "from tensorflow.keras.utils import plot_model\n",
    "from IPython.display import Image"
   ]
  },
  {
   "cell_type": "code",
   "execution_count": 39,
   "id": "98ba3e7d",
   "metadata": {},
   "outputs": [],
   "source": [
    "# Method:1\n",
    "model = keras.Sequential(name='Sequential')\n",
    "model.add(layers.Dense(64, activation = 'relu', input_shape = (784,))) # input_shape = (784,)指的是輸入一維的資料，常數不符合網路輸入格式\n",
    "model.add(layers.Dense(64, activation = 'relu'))\n",
    "model.add(layers.Dense(10, activation = 'softmax'))"
   ]
  },
  {
   "cell_type": "code",
   "execution_count": 25,
   "id": "a17afda9",
   "metadata": {},
   "outputs": [
    {
     "name": "stdout",
     "output_type": "stream",
     "text": [
      "Model: \"Sequential\"\n",
      "_________________________________________________________________\n",
      "Layer (type)                 Output Shape              Param #   \n",
      "=================================================================\n",
      "dense_6 (Dense)              (None, 64)                50240     \n",
      "_________________________________________________________________\n",
      "dense_7 (Dense)              (None, 64)                4160      \n",
      "_________________________________________________________________\n",
      "dense_8 (Dense)              (None, 10)                650       \n",
      "=================================================================\n",
      "Total params: 55,050\n",
      "Trainable params: 55,050\n",
      "Non-trainable params: 0\n",
      "_________________________________________________________________\n"
     ]
    }
   ],
   "source": [
    "model.summary()"
   ]
  },
  {
   "cell_type": "code",
   "execution_count": 40,
   "id": "95977f3b",
   "metadata": {},
   "outputs": [],
   "source": [
    "# Method:2\n",
    "model = tf.keras.Sequential([\n",
    "    layers.Dense(64, activation = 'relu', input_shape = (784,)),\n",
    "    layers.Dense(64, activation = 'relu'),\n",
    "    layers.Dense(10, activation = 'softmax')\n",
    "])"
   ]
  },
  {
   "cell_type": "code",
   "execution_count": 41,
   "id": "3dd158df",
   "metadata": {},
   "outputs": [
    {
     "name": "stdout",
     "output_type": "stream",
     "text": [
      "Model: \"sequential_2\"\n",
      "_________________________________________________________________\n",
      "Layer (type)                 Output Shape              Param #   \n",
      "=================================================================\n",
      "dense_15 (Dense)             (None, 64)                50240     \n",
      "_________________________________________________________________\n",
      "dense_16 (Dense)             (None, 64)                4160      \n",
      "_________________________________________________________________\n",
      "dense_17 (Dense)             (None, 10)                650       \n",
      "=================================================================\n",
      "Total params: 55,050\n",
      "Trainable params: 55,050\n",
      "Non-trainable params: 0\n",
      "_________________________________________________________________\n"
     ]
    }
   ],
   "source": [
    "model.summary()"
   ]
  },
  {
   "cell_type": "code",
   "execution_count": 42,
   "id": "0f134b5a",
   "metadata": {},
   "outputs": [
    {
     "data": {
      "image/png": "[encoded data removed]",
      "text/plain": [
       "<IPython.core.display.Image object>"
      ]
     },
     "execution_count": 42,
     "metadata": {},
     "output_type": "execute_result"
    }
   ],
   "source": [
    "plot_model(model, to_file='./Network_img/Sequential_Model.png')\n",
    "Image('./Network_img/Sequential_Model.png')"
   ]
  },
  {
   "cell_type": "markdown",
   "id": "8df4ab58",
   "metadata": {},
   "source": [
    "# Functional API (函數模型)"
   ]
  },
  {
   "cell_type": "markdown",
   "id": "a8c8bcad",
   "metadata": {},
   "source": [
    "(1). Single Input and Output Model"
   ]
  },
  {
   "cell_type": "code",
   "execution_count": 29,
   "id": "15b6573c",
   "metadata": {},
   "outputs": [
    {
     "data": {
      "image/png": "[encoded data removed]",
      "text/plain": [
       "<IPython.core.display.Image object>"
      ]
     },
     "execution_count": 29,
     "metadata": {},
     "output_type": "execute_result"
    }
   ],
   "source": [
    "# 與Sequential不同，需建立輸入層\n",
    "inputs = keras.Input(shape=(784,), name='Input')\n",
    "# 隱藏層\n",
    "h1 = layers.Dense(64, activation='relu', name='hidden1')(inputs)\n",
    "h2 = layers.Dense(64, activation='relu', name='hidden2')(h1)\n",
    "# 輸出層\n",
    "outputs = layers.Dense(10, activation='softmax', name='Output')(h2)\n",
    "\n",
    "model = keras.Model(inputs=inputs, outputs=outputs)\n",
    "\n",
    "plot_model(model, to_file='./Network_img/Functional_API_Single_Input_And_Output_Model.png')\n",
    "Image('./Network_img/Functional_API_Single_Input_And_Output_Model.png')"
   ]
  },
  {
   "cell_type": "markdown",
   "id": "5fb9b8ad",
   "metadata": {},
   "source": [
    "(2). Multi Input and Single Output Model\n",
    "ex. 商品價格預測為兩輸入(圖片、品牌)、一輸出(價格)，圖片(128,128,3)輸入經過三層隱藏層，品牌(1,)輸入經過一層隱藏層，\n",
    "將兩個資訊結合後在經過一層隱藏層，輸出為價格預測(1,)。"
   ]
  },
  {
   "cell_type": "code",
   "execution_count": 36,
   "id": "f4ec3da7",
   "metadata": {},
   "outputs": [
    {
     "data": {
      "image/png": "[encoded data removed]",
      "text/plain": [
       "<IPython.core.display.Image object>"
      ]
     },
     "execution_count": 36,
     "metadata": {},
     "output_type": "execute_result"
    }
   ],
   "source": [
    "# 輸入層\n",
    "img_input = keras.Input(shape=(128, 128, 3), name='Image_Input')\n",
    "info_input = keras.Input(shape=(1,), name='Informatio_Input')\n",
    "# 隱藏層\n",
    "h1_1 = layers.Conv2D(64, 5, strides=2, activation='relu', name='hidden1_1')(img_input)\n",
    "h1_2 = layers.Conv2D(32, 5, strides=2, activation='relu', name='hidden1_2')(h1_1)\n",
    "h1_2_ft = layers.Flatten()(h1_2)\n",
    "h1_3 = layers.Dense(64, activation='relu', name='hidden1_3')(info_input)\n",
    "concat = layers.Concatenate()([h1_2_ft, h1_3])\n",
    "h2 = layers.Dense(64, activation='relu', name='hidden2')(concat)\n",
    "# 輸出層\n",
    "outputs = layers.Dense(1, name='Output')(h2)\n",
    "\n",
    "model = keras.Model(inputs=[img_input, info_input], outputs=outputs)\n",
    "\n",
    "plot_model(model, to_file='./Network_img/Functional_API_Multi_Input_and_Single_Output_Model.png')\n",
    "Image('./Network_img/Functional_API_Multi_Input_and_Single_Output_Model.png')"
   ]
  },
  {
   "cell_type": "markdown",
   "id": "c35ac522",
   "metadata": {},
   "source": [
    "(3). Single Input and Multi Output Model ex.人像識別為一輸入(人物照片)、兩輸出(年齡和性別)，人物照片(128,128,3)輸入經過三層隱藏層，而輸出為年齡(1,)和性別(1,)。"
   ]
  },
  {
   "cell_type": "code",
   "execution_count": 43,
   "id": "819c9422",
   "metadata": {},
   "outputs": [
    {
     "data": {
      "image/png": "[encoded data removed]",
      "text/plain": [
       "<IPython.core.display.Image object>"
      ]
     },
     "execution_count": 43,
     "metadata": {},
     "output_type": "execute_result"
    }
   ],
   "source": [
    "# 輸入層\n",
    "inputs = keras.Input(shape=(128, 128, 3), name='Input')\n",
    "# 隱藏層\n",
    "h1 = layers.Conv2D(64, 3, activation='relu', name='hidden1')(inputs)\n",
    "h2 = layers.Conv2D(64, 3, strides=2, activation='relu', name='hidden2')(h1)\n",
    "h3 = layers.Conv2D(64, 3, strides=2, activation='relu', name='hidden3')(h2)\n",
    "ft = layers.Flatten()(h3)\n",
    "# 輸出層\n",
    "age_output = layers.Dense(1, name='Age_Output')(ft)\n",
    "gender_output = layers.Dense(1, name='Gender_Output')(ft)\n",
    "\n",
    "model = keras.Model(inputs=inputs, outputs=[age_output, gender_output])\n",
    "\n",
    "plot_model(model, to_file='./Network_img/Functional_API_Single_Input_and_Multi_Output_Model.png')\n",
    "Image('./Network_img/Functional_API_Single_Input_and_Multi_Output_Model.png')"
   ]
  },
  {
   "cell_type": "markdown",
   "id": "cd4015cd",
   "metadata": {},
   "source": [
    "(4). Multi Input and Output Model ex.天氣預測為兩輸入(衛星雲圖、氣候資訊)、三輸出(機率、溫度、濕度)，衛星雲圖(256,256,3)輸入經過三層隱藏層，氣候資訊(10,)輸入經過一層隱藏層，並結合兩資訊，輸出為降雨機率(1,)、溫度(1,)、濕度(1,)。"
   ]
  },
  {
   "cell_type": "code",
   "execution_count": 46,
   "id": "9511893d",
   "metadata": {},
   "outputs": [
    {
     "data": {
      "image/png": "[encoded data removed]",
      "text/plain": [
       "<IPython.core.display.Image object>"
      ]
     },
     "execution_count": 46,
     "metadata": {},
     "output_type": "execute_result"
    }
   ],
   "source": [
    "# 輸入層\n",
    "img_inputs = keras.Input(shape=(256, 256, 3), name='Image_Input')\n",
    "info_inputs = keras.Input(shape=(10,), name='Information_Input')\n",
    "# 隱藏層\n",
    "h1 = layers.Conv2D(64, 3, activation='relu', name='hidden1')(img_inputs)\n",
    "h2 = layers.Conv2D(64, 3, strides=2, activation='relu', name='hidden2')(h1)\n",
    "h3 = layers.Conv2D(64, 3, strides=2, activation='relu', name='hidden3')(h2)\n",
    "ft = layers.Flatten()(h3)\n",
    "h4 = layers.Dense(64)(info_inputs)\n",
    "concat = layers.Concatenate()([ft, h4])\n",
    "# 輸出層\n",
    "weather_outputs = layers.Dense(1, name='Output1')(concat)\n",
    "temp_outputs = layers.Dense(1, name='Output2')(concat)\n",
    "humidity_outputs = layers.Dense(1, name='Output3')(concat)\n",
    "\n",
    "model = keras.Model(inputs=[img_inputs, info_inputs], outputs=[weather_outputs, temp_outputs, humidity_outputs])\n",
    "\n",
    "plot_model(model, to_file='./Network_img/Functional_API_Multi_Input_and_Output_Model.png')\n",
    "Image('./Network_img/Functional_API_Multi_Input_and_Output_Model.png')"
   ]
  },
  {
   "cell_type": "markdown",
   "id": "fd6c96da",
   "metadata": {},
   "source": [
    "# tf.data"
   ]
  },
  {
   "cell_type": "code",
   "execution_count": 67,
   "id": "22d279c3",
   "metadata": {},
   "outputs": [
    {
     "name": "stdout",
     "output_type": "stream",
     "text": [
      "<TensorDataset shapes: (10,), types: tf.int32>\n"
     ]
    }
   ],
   "source": [
    "dataset = tf.data.Dataset.from_tensors(tf.constant([1,2,3,4,5,6,7,8,9,10], shape=(10,)))\n",
    "print(dataset)"
   ]
  },
  {
   "cell_type": "code",
   "execution_count": 68,
   "id": "94ac1136",
   "metadata": {},
   "outputs": [
    {
     "name": "stdout",
     "output_type": "stream",
     "text": [
      "<TensorSliceDataset shapes: (), types: tf.int32>\n",
      "<TensorSliceDataset shapes: (), types: tf.int32>\n"
     ]
    }
   ],
   "source": [
    "x_data = tf.data.Dataset.from_tensor_slices(tf.constant([0,1,2,3,4,5,6,7,8,9]))\n",
    "print(x_data) # shape:()表一次讀取1個\n",
    "y_data = tf.data.Dataset.from_tensor_slices(tf.constant([0,2,4,6,8,10,12,14,16,18]))\n",
    "print(y_data)"
   ]
  },
  {
   "cell_type": "code",
   "execution_count": 69,
   "id": "233f4056",
   "metadata": {},
   "outputs": [
    {
     "name": "stdout",
     "output_type": "stream",
     "text": [
      "tf.Tensor([ 1  2  3  4  5  6  7  8  9 10], shape=(10,), dtype=int32)\n"
     ]
    }
   ],
   "source": [
    "for data in dataset:\n",
    "    print(data)"
   ]
  },
  {
   "cell_type": "code",
   "execution_count": 70,
   "id": "19f365db",
   "metadata": {},
   "outputs": [
    {
     "name": "stdout",
     "output_type": "stream",
     "text": [
      "x:0, y:0\n",
      "x:1, y:2\n",
      "x:2, y:4\n",
      "x:3, y:6\n",
      "x:4, y:8\n",
      "x:5, y:10\n",
      "x:6, y:12\n",
      "x:7, y:14\n",
      "x:8, y:16\n",
      "x:9, y:18\n"
     ]
    }
   ],
   "source": [
    "for data1, data2 in zip(x_data, y_data):\n",
    "    print('x:{}, y:{}'.format(data1, data2))"
   ]
  },
  {
   "cell_type": "code",
   "execution_count": 71,
   "id": "ede5ddca",
   "metadata": {},
   "outputs": [
    {
     "name": "stdout",
     "output_type": "stream",
     "text": [
      "tf.Tensor([ 1  2  3  4  5  6  7  8  9 10], shape=(10,), dtype=int32)\n"
     ]
    }
   ],
   "source": [
    "for data in dataset.take(1):\n",
    "    print(data)"
   ]
  },
  {
   "cell_type": "code",
   "execution_count": 72,
   "id": "a8606fdb",
   "metadata": {},
   "outputs": [
    {
     "name": "stdout",
     "output_type": "stream",
     "text": [
      "x:0, y:0\n",
      "x:1, y:2\n",
      "x:2, y:4\n",
      "x:3, y:6\n",
      "x:4, y:8\n"
     ]
    }
   ],
   "source": [
    "for data1, data2 in zip(x_data.take(5), y_data.take(5)):\n",
    "    print('x:{}, y:{}'.format(data1, data2))"
   ]
  },
  {
   "cell_type": "code",
   "execution_count": 73,
   "id": "da31fbf5",
   "metadata": {},
   "outputs": [
    {
     "data": {
      "text/plain": [
       "<ZipDataset shapes: ((), ()), types: (tf.int32, tf.int32)>"
      ]
     },
     "execution_count": 73,
     "metadata": {},
     "output_type": "execute_result"
    }
   ],
   "source": [
    "tf.data.Dataset.zip((x_data, y_data)) # zip:將多個Dataset打包成一個"
   ]
  },
  {
   "cell_type": "code",
   "execution_count": 74,
   "id": "dba58505",
   "metadata": {},
   "outputs": [
    {
     "data": {
      "text/plain": [
       "<MapDataset shapes: (), types: tf.int64>"
      ]
     },
     "execution_count": 74,
     "metadata": {},
     "output_type": "execute_result"
    }
   ],
   "source": [
    "# lambda為匿名函數，功用和 def function - return 一樣\n",
    "tf.data.Dataset.range(10).map(lambda x: x*2) # map:可用來轉換資料"
   ]
  },
  {
   "cell_type": "code",
   "execution_count": 75,
   "id": "c11560cc",
   "metadata": {},
   "outputs": [
    {
     "name": "stdout",
     "output_type": "stream",
     "text": [
      "<ZipDataset shapes: {x: (), y: ()}, types: {x: tf.int64, y: tf.int64}>\n"
     ]
    }
   ],
   "source": [
    "x = tf.data.Dataset.range(10)\n",
    "y = tf.data.Dataset.range(10).map(lambda x: x*3)\n",
    "dataset = tf.data.Dataset.zip({\"x\":x, \"y\":y})\n",
    "print(dataset)"
   ]
  },
  {
   "cell_type": "code",
   "execution_count": 76,
   "id": "32a00755",
   "metadata": {},
   "outputs": [
    {
     "name": "stdout",
     "output_type": "stream",
     "text": [
      "x: 0, y: 0\n",
      "x: 1, y: 3\n",
      "x: 2, y: 6\n",
      "x: 3, y: 9\n",
      "x: 4, y: 12\n",
      "x: 5, y: 15\n",
      "x: 6, y: 18\n",
      "x: 7, y: 21\n",
      "x: 8, y: 24\n",
      "x: 9, y: 27\n"
     ]
    }
   ],
   "source": [
    "for data in dataset.take(10):\n",
    "    print('x: {}, y: {}'.format(data['x'], data['y']))"
   ]
  },
  {
   "cell_type": "code",
   "execution_count": 77,
   "id": "4fc54f83",
   "metadata": {},
   "outputs": [
    {
     "name": "stdout",
     "output_type": "stream",
     "text": [
      "x: [0 1], y: [0 3]\n",
      "x: [2 3], y: [6 9]\n",
      "x: [4 5], y: [12 15]\n",
      "x: [6 7], y: [18 21]\n",
      "x: [8 9], y: [24 27]\n"
     ]
    }
   ],
   "source": [
    "dataset = tf.data.Dataset.zip({\"x\":x, \"y\":y}).batch(2)\n",
    "for data in dataset.take(10):\n",
    "    print('x: {}, y: {}'.format(data['x'], data['y']))"
   ]
  },
  {
   "cell_type": "code",
   "execution_count": 78,
   "id": "eb93f438",
   "metadata": {},
   "outputs": [
    {
     "name": "stdout",
     "output_type": "stream",
     "text": [
      "x: [8 9], y: [24 27]\n",
      "x: [4 5], y: [12 15]\n",
      "x: [0 1], y: [0 3]\n",
      "x: [6 7], y: [18 21]\n",
      "x: [2 3], y: [6 9]\n"
     ]
    }
   ],
   "source": [
    "# shuffle: Dataset資料會被預先載入到buffer中，並從buffer中\"隨機\"挑出資料，取出資料產生的空位會從新的資料替補。\n",
    "dataset = dataset.shuffle(10)\n",
    "for data in dataset.take(5):\n",
    "    print('x: {}, y: {}'.format(data['x'], data['y']))"
   ]
  },
  {
   "cell_type": "code",
   "execution_count": 79,
   "id": "cf02d923",
   "metadata": {},
   "outputs": [
    {
     "name": "stdout",
     "output_type": "stream",
     "text": [
      "x: [2 3], y: [6 9]\n",
      "x: [6 7], y: [18 21]\n",
      "x: [0 1], y: [0 3]\n",
      "x: [4 5], y: [12 15]\n",
      "x: [8 9], y: [24 27]\n",
      "--------------------------------------------------\n",
      "x: [8 9], y: [24 27]\n",
      "x: [2 3], y: [6 9]\n",
      "x: [4 5], y: [12 15]\n",
      "x: [0 1], y: [0 3]\n",
      "x: [6 7], y: [18 21]\n",
      "x: [8 9], y: [24 27]\n",
      "x: [0 1], y: [0 3]\n",
      "x: [2 3], y: [6 9]\n",
      "x: [4 5], y: [12 15]\n",
      "x: [6 7], y: [18 21]\n"
     ]
    }
   ],
   "source": [
    "for data in dataset.take(10):\n",
    "    print('x: {}, y: {}'.format(data['x'], data['y']))\n",
    "print('-' * 50)\n",
    "dataset = dataset.repeat(2)\n",
    "for data in dataset.take(10):\n",
    "    print('x: {}, y: {}'.format(data['x'], data['y']))"
   ]
  }
 ],
 "metadata": {
  "kernelspec": {
   "display_name": "tf2",
   "language": "python",
   "name": "tf2"
  },
  "language_info": {
   "codemirror_mode": {
    "name": "ipython",
    "version": 3
   },
   "file_extension": ".py",
   "mimetype": "text/x-python",
   "name": "python",
   "nbconvert_exporter": "python",
   "pygments_lexer": "ipython3",
   "version": "3.8.10"
  }
 },
 "nbformat": 4,
 "nbformat_minor": 5
}
