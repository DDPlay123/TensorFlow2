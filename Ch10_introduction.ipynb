{
 "cells": [
  {
   "cell_type": "code",
   "execution_count": 10,
   "id": "1fd5b680",
   "metadata": {},
   "outputs": [],
   "source": [
    "import numpy as np\n",
    "import matplotlib.pyplot as plt\n",
    "import math "
   ]
  },
  {
   "cell_type": "markdown",
   "id": "33265772",
   "metadata": {},
   "source": [
    "# Auto-Encoder 介紹\n",
    "Auto-Encoder(自編碼, AE)是一種**非監督式學習的算法**，網路架構主要分為兩個部分**Encoder(編碼器)**和**Decoder(解碼器)**。  \n",
    "1. Encoder(編碼器): 是負責將影像資訊壓縮到任意維度的低維空間，即**low-dimensional latent space**，低維空間的壓縮資訊簡稱Code。\n",
    "2. Decoder(解碼器): 是負責將Code解碼回原來的影像。"
   ]
  },
  {
   "attachments": {},
   "cell_type": "markdown",
   "id": "c0b4e7c6",
   "metadata": {},
   "source": [
    "### Auto-Encoder 訓練機制\n",
    "Auto-Encoder的訓練目標是希望「輸入到Encoder的影像與Decoder的輸出影像越相似越好」。也是因為整個訓練過程只需要影像資訊，不需任何標籤，因此稱為非監督式學習。  \n",
    "\n",
    "<img src=\"img/auto_encoder_1.jpg\" width=\"500\" style=\"float:left\">"
   ]
  },
  {
   "cell_type": "markdown",
   "id": "90e2fe70",
   "metadata": {},
   "source": [
    "### Auto-Encoder生成影像\n",
    "當訓練好Auto-Encoder網路模型後，我們可以隨機產生一組**Code**，並將Code輸入到Decoder中，希望Decoder能夠產生一組與訓練資料類似且有意義的資料。  \n",
    "<img src=\"img/auto_encoder_2.jpg\" width=\"500\" style=\"float:left\">  "
   ]
  },
  {
   "cell_type": "markdown",
   "id": "da9c3115",
   "metadata": {},
   "source": [
    "但實際上訓練Auto-Encoder時，並沒有對Encoder產生Code的分布做約束，所以隨機產生的Code透過Decoder產生的圖片，通常不具任何意義。且相似的Code輸出間沒有連續關係。"
   ]
  },
  {
   "cell_type": "markdown",
   "id": "1acda561",
   "metadata": {},
   "source": [
    "# Variational Auto-Encoder 介紹\n",
    "Variational Auto-Encoder(VAE)是Auto-Encoder(AE)的進階版，其架構一樣是由Encoder(編碼器)和Decoder(解碼器)組成。  \n",
    "不過與**AE**不同的地方在於**VAE**的Encoder，它在訓練後會輸出兩個向量，分別為**平均值(Mean, μ)**和**變異數(Variance, σ^2)**，再由Mean和Variance來產生**常態分佈**，而Decoder的輸入就是從Encoder所產生的常態分佈中隨機抽取一個點作為輸入的Code。\n",
    "<img src=\"img/auto_encoder_3.jpg\" width=\"800\" style=\"float:left\">  "
   ]
  },
  {
   "cell_type": "markdown",
   "id": "1039187b",
   "metadata": {},
   "source": [
    "VAE之所以將Code設計為常態分佈，是為了使輸出間有連續的關係。  \n",
    "<img src=\"img/auto_encoder_4.jpg\" width=\"800\" style=\"float:left\">  "
   ]
  },
  {
   "cell_type": "markdown",
   "id": "527d2baf",
   "metadata": {},
   "source": [
    "但實際上，VAE在實作上並不能直接從常態分佈中抽取樣本，因為在BP時，不會有數值。因此我們改成從常態分佈抽取一個**e**，讓Code = exp(σ^2) x e + μ  \n",
    "<img src=\"img/auto_encoder_5.jpg\" width=\"800\" style=\"float:left\">  "
   ]
  },
  {
   "cell_type": "markdown",
   "id": "e7e8c02a",
   "metadata": {},
   "source": [
    "**解釋:**  \n",
    "μ為原來AE的Code，而這個Code會去加一個**Noise(exp(σ^2) x e)**，希望加上Noise的Code仍然可以Decoder回原圖。  \n",
    "Noise是從一個標準常態分佈產生的**e**，並乘上一個放大倍率exp(σ^2)。"
   ]
  },
  {
   "cell_type": "markdown",
   "id": "5f5fd9e3",
   "metadata": {},
   "source": [
    "## Variational Auto-Encoder 生成影像\n",
    "與 AE 不同，因為輸出間是相關聯的，所以輸出是有意義的。"
   ]
  },
  {
   "cell_type": "markdown",
   "id": "6463d3ac",
   "metadata": {},
   "source": [
    "# Variational Auto-Encoder 損失函數\n",
    "VAE 的訓練目標是希望預測輸出與影像輸入越相似越好，因此對輸入影像與輸出影像的每一個像素點都做Binary Cross-Entropy(BCE)，這個損失函數又稱為**Reconstruction Loss**。"
   ]
  },
  {
   "cell_type": "markdown",
   "id": "1ddf82d3",
   "metadata": {},
   "source": [
    "<img src=\"img/loss_1.jpg\" width=\"500\" style=\"float:left\">  "
   ]
  },
  {
   "cell_type": "markdown",
   "id": "470b5a8c",
   "metadata": {},
   "source": [
    "x: 輸入影像。  \n",
    "y: 輸出影像。  \n",
    "W: 影像長度。  \n",
    "H: 影像高度。  \n",
    "C: 影像深度。  \n",
    "N: 一個批次量。"
   ]
  },
  {
   "cell_type": "markdown",
   "id": "aa6a95bf",
   "metadata": {},
   "source": [
    "但是只有Reconstruction Loss是不夠的，exp(σ^2)是控制Noise的放大倍率，而σ^2是由網路學習而來的。所以只要網路學會將exp(σ^2)輸出為0，就不會有Noise產生，沒有Noise其結果就相當於AE的輸出結果了。"
   ]
  },
  {
   "cell_type": "code",
   "execution_count": 39,
   "id": "1b37c4f2",
   "metadata": {},
   "outputs": [
    {
     "data": {
      "text/plain": [
       "<matplotlib.legend.Legend at 0x1c5f320c790>"
      ]
     },
     "execution_count": 39,
     "metadata": {},
     "output_type": "execute_result"
    },
    {
     "data": {
      "image/png": "[encoded data removed]",
      "text/plain": [
       "<Figure size 432x288 with 1 Axes>"
      ]
     },
     "metadata": {
      "needs_background": "light"
     },
     "output_type": "display_data"
    }
   ],
   "source": [
    "def exponential_func(x, a=2.718):\n",
    "    y = math.pow(a, x)\n",
    "    return y\n",
    "X = np.arange(-4, 2, 0.1)\n",
    "Y = [exponential_func(x) for x in X]\n",
    "plt.plot(X, Y, label='exp(σ^2)')\n",
    "plt.grid(True)\n",
    "plt.legend(loc='upper left')"
   ]
  },
  {
   "cell_type": "markdown",
   "id": "bff7eb66",
   "metadata": {},
   "source": [
    "因此需要在σ^2加上一個Loss(σ^2)來限制，而如果要使Loss(σ^2)為0的話，σ^2就必須為0，此時Noise的放大倍率exp(σ^2)為1，如此就能解決exp(σ^2)輸出為0的狀況。"
   ]
  },
  {
   "cell_type": "markdown",
   "id": "7280a20d",
   "metadata": {},
   "source": [
    "<img src=\"img/loss_2.jpg\" width=\"500\" style=\"float:left\">"
   ]
  },
  {
   "cell_type": "code",
   "execution_count": 38,
   "id": "c720ae81",
   "metadata": {},
   "outputs": [
    {
     "data": {
      "text/plain": [
       "<matplotlib.legend.Legend at 0x1c5f25c2d00>"
      ]
     },
     "execution_count": 38,
     "metadata": {},
     "output_type": "execute_result"
    },
    {
     "data": {
      "image/png": "[encoded data removed]",
      "text/plain": [
       "<Figure size 432x288 with 1 Axes>"
      ]
     },
     "metadata": {
      "needs_background": "light"
     },
     "output_type": "display_data"
    }
   ],
   "source": [
    "def exponential_func(x, a=2.718):\n",
    "    w = math.pow(a, x)\n",
    "    x = (1 + x)\n",
    "    z = w - x\n",
    "    return z\n",
    "X = np.arange(-4, 2, 0.1)\n",
    "Y = [exponential_func(x) for x in X]\n",
    "plt.plot(X, Y, label='exp(σ^2) - (1+σ^2)')\n",
    "plt.grid(True)\n",
    "plt.legend(loc='upper left')"
   ]
  },
  {
   "cell_type": "markdown",
   "id": "1054c98f",
   "metadata": {},
   "source": [
    "另外在對μ做L2 regularization，希望μ越小越好。"
   ]
  },
  {
   "cell_type": "markdown",
   "id": "35ff3068",
   "metadata": {},
   "source": [
    "<img src=\"img/loss_3.jpg\" width=\"200\" style=\"float:left\">"
   ]
  },
  {
   "cell_type": "markdown",
   "id": "7cad69a9",
   "metadata": {},
   "source": [
    "將Loss(σ^2)和Loss(μ)整理在一起，稱為Kullback-Leibler diveragence loss(又稱KL Loss)。"
   ]
  },
  {
   "cell_type": "markdown",
   "id": "01eed747",
   "metadata": {},
   "source": [
    "<img src=\"img/loss_4.jpg\" width=\"500\" style=\"float:left\">"
   ]
  }
 ],
 "metadata": {
  "kernelspec": {
   "display_name": "tf2",
   "language": "python",
   "name": "tf2"
  },
  "language_info": {
   "codemirror_mode": {
    "name": "ipython",
    "version": 3
   },
   "file_extension": ".py",
   "mimetype": "text/x-python",
   "name": "python",
   "nbconvert_exporter": "python",
   "pygments_lexer": "ipython3",
   "version": "3.8.10"
  }
 },
 "nbformat": 4,
 "nbformat_minor": 5
}
